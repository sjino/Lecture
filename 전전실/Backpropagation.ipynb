{
  "nbformat": 4,
  "nbformat_minor": 0,
  "metadata": {
    "colab": {
      "name": "Backpropagation.ipynb",
      "provenance": [],
      "collapsed_sections": [],
      "authorship_tag": "ABX9TyMjx11+8P3W0eTn6peazEPY",
      "include_colab_link": true
    },
    "kernelspec": {
      "name": "python3",
      "display_name": "Python 3"
    }
  },
  "cells": [
    {
      "cell_type": "markdown",
      "metadata": {
        "id": "view-in-github",
        "colab_type": "text"
      },
      "source": [
        "<a href=\"https://colab.research.google.com/github/xmmzino/School/blob/master/%EC%A0%84%EC%A0%84%EC%8B%A4/Backpropagation.ipynb\" target=\"_parent\"><img src=\"https://colab.research.google.com/assets/colab-badge.svg\" alt=\"Open In Colab\"/></a>"
      ]
    },
    {
      "cell_type": "code",
      "metadata": {
        "id": "OQRrRQULatsC",
        "outputId": "b12254bc-cbb3-408d-f133-c396450035b2",
        "colab": {
          "base_uri": "https://localhost:8080/",
          "height": 36
        }
      },
      "source": [
        "import math\n",
        "\n",
        "x = 3\n",
        "y = -4\n",
        "z = 2\n",
        "w = -1\n",
        "# forward pass\n",
        "xpy = x + y\n",
        "maxzw = max(z, w)\n",
        "sum = xpy + maxzw\n",
        "f = 2 * sum\n",
        "\n",
        "# backpropagation\n",
        "dsum = 2 * 1\n",
        "\n",
        "dxpy = dsum * 1\n",
        "dmaxzw = dsum * 1\n",
        "\n",
        "dx = y * dxpy\n",
        "dy = x * dxpy\n",
        "\n",
        "dz = dmaxzw if z > w else 0\n",
        "dw = dmaxzw if w > z else 0\n",
        "\n",
        "print(\"dx:\", dx, \"dy:\", dy, \"dz:\", dz, \"dw:\", dw)"
      ],
      "execution_count": 1,
      "outputs": [
        {
          "output_type": "stream",
          "text": [
            "dx: -8 dy: 6 dz: 2 dw: 0\n"
          ],
          "name": "stdout"
        }
      ]
    },
    {
      "cell_type": "code",
      "metadata": {
        "id": "Uqwecw7fa0JG"
      },
      "source": [
        "'''\n",
        "import math\n",
        "\n",
        "x = 3\n",
        "y = -4\n",
        "\n",
        "sigy = 1.0 / (1 + math.exp(-y))\n",
        "num = x + sigy\n",
        "sigx = 1.0 / (1 + math.exp(-x))\n",
        "xpy = x + y\n",
        "xpysqr = xpy ** 2\n",
        "den = sigx + xpysqr\n",
        "invden = 1.0 / den\n",
        "f = num * invden\n",
        "dnum = invden\n",
        "dinvden = num\n",
        "dden = (-1.0 / (den ** 2)) * dinvden\n",
        "\n",
        "dsigx = (1) * dden\n",
        "dxpysqr = (1) * dden\n",
        "\n",
        "dxpy = (2 * xpy) * dxpysqr\n",
        "\n",
        "dx = (1) * dxpy\n",
        "dy = (1) * dxpy\n",
        "\n",
        "dx += ((1 - sigx) * sigx) * dsigx\n",
        "dx += (1) * dnum\n",
        "dx += (1) * dxpy\n",
        "\n",
        "dsigy = (1) * dnum\n",
        "dy += ((1 - sigy) * sigy) * dsigy\n",
        "dy += dxpy\n",
        "\n",
        "print(\"dx:\", dx)\n",
        "print(\"dy:\", dy)\n",
        "'''\n"
      ],
      "execution_count": null,
      "outputs": []
    }
  ]
}