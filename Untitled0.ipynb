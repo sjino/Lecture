{
  "nbformat": 4,
  "nbformat_minor": 0,
  "metadata": {
    "colab": {
      "name": "Untitled0.ipynb",
      "provenance": [],
      "private_outputs": true,
      "mount_file_id": "1cT_s2oCzyS7KY3o96sH2dxOyqOQn7vvd",
      "authorship_tag": "ABX9TyOMwxwVYpLAJJTpN5lDiLVf",
      "include_colab_link": true
    },
    "kernelspec": {
      "name": "python3",
      "display_name": "Python 3"
    },
    "accelerator": "GPU"
  },
  "cells": [
    {
      "cell_type": "markdown",
      "metadata": {
        "id": "view-in-github",
        "colab_type": "text"
      },
      "source": [
        "<a href=\"https://colab.research.google.com/github/xmmzino/School/blob/master/Untitled0.ipynb\" target=\"_parent\"><img src=\"https://colab.research.google.com/assets/colab-badge.svg\" alt=\"Open In Colab\"/></a>"
      ]
    },
    {
      "cell_type": "markdown",
      "metadata": {
        "id": "pEOiPCKH3EKJ"
      },
      "source": [
        "Welcome to the Introduction of Al**"
      ]
    },
    {
      "cell_type": "code",
      "metadata": {
        "id": "psFJ8rvD3SA3"
      },
      "source": [
        "import torch"
      ],
      "execution_count": null,
      "outputs": []
    },
    {
      "cell_type": "code",
      "metadata": {
        "id": "F0-_iNp56bNi"
      },
      "source": [
        "a=torch.rand(5, 3)\n",
        "print(a)\n",
        "print(a.size())"
      ],
      "execution_count": null,
      "outputs": []
    }
  ]
}